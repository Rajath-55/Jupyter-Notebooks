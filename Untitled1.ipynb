{
 "cells": [
  {
   "cell_type": "code",
   "execution_count": 11,
   "metadata": {},
   "outputs": [
    {
     "name": "stdout",
     "output_type": "stream",
     "text": [
      "{'value': 10, 'nxt': {'value': 5, 'nxt': None}}\n",
      "{'value': 10, 'nxt': {'value': 5, 'nxt': None}}\n",
      "{'value': 5, 'nxt': None}\n"
     ]
    },
    {
     "data": {
      "text/plain": [
       "<__main__.Singly_Linked_List at 0x644d598>"
      ]
     },
     "execution_count": 11,
     "metadata": {},
     "output_type": "execute_result"
    }
   ],
   "source": [
    "class Singly_Linked_List:\n",
    "  \n",
    "  def __init__(self,value):\n",
    "    self.head = {'value' : value, 'nxt' : None}\n",
    "    self.tail = self.head\n",
    "    self.length = 1\n",
    "\n",
    "  def newNodeSLL(self,value):\n",
    "    node = {'value' : value, 'nxt' : None}\n",
    "#     print(\"IN newNodeSLL \")\n",
    "#     print(self.head)\n",
    "#     print(self.tail)\n",
    "    return node\n",
    "\n",
    "  def appendSLL(self,value):\n",
    "    new_node = self.newNodeSLL(value)\n",
    "    self.tail['nxt'] = new_node\n",
    "    print(self.head)\n",
    "    self.tail = new_node\n",
    "    print(self.head)\n",
    "    print(self.tail)\n",
    "    self.length+=1\n",
    "    return self\n",
    "\n",
    "myLinkedList = Singly_Linked_List(10)\n",
    "# print(myLinkedList.__dict__)\n",
    "myLinkedList.appendSLL(5)\n",
    "# print(myLinkedList.appendSLL(16).__dict__)\n",
    "\n",
    "\n"
   ]
  },
  {
   "cell_type": "code",
   "execution_count": null,
   "metadata": {},
   "outputs": [],
   "source": []
  }
 ],
 "metadata": {
  "kernelspec": {
   "display_name": "Python 3",
   "language": "python",
   "name": "python3"
  },
  "language_info": {
   "codemirror_mode": {
    "name": "ipython",
    "version": 3
   },
   "file_extension": ".py",
   "mimetype": "text/x-python",
   "name": "python",
   "nbconvert_exporter": "python",
   "pygments_lexer": "ipython3",
   "version": "3.8.1"
  }
 },
 "nbformat": 4,
 "nbformat_minor": 4
}
