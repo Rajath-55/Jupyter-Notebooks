{
  "nbformat": 4,
  "nbformat_minor": 0,
  "metadata": {
    "colab": {
      "name": "TextGenerator.ipynb",
      "provenance": [],
      "collapsed_sections": []
    },
    "kernelspec": {
      "name": "python3",
      "display_name": "Python 3"
    }
  },
  "cells": [
    {
      "cell_type": "code",
      "metadata": {
        "id": "m8s1ZaWgTEsS"
      },
      "source": [
        "import numpy as np\r\n"
      ],
      "execution_count": 4,
      "outputs": []
    },
    {
      "cell_type": "code",
      "metadata": {
        "colab": {
          "resources": {
            "http://localhost:8080/nbextensions/google.colab/files.js": {
              "data": "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",
              "ok": true,
              "headers": [
                [
                  "content-type",
                  "application/javascript"
                ]
              ],
              "status": 200,
              "status_text": ""
            }
          },
          "base_uri": "https://localhost:8080/",
          "height": 410
        },
        "id": "hesSYMGVTJiG",
        "outputId": "d01ddfcc-b44b-4092-a59d-1753f402fe74"
      },
      "source": [
        "from google.colab import files\r\n",
        "uploaded = files.upload()\r\n",
        "\r\n",
        "for fn in uploaded.keys():\r\n",
        "  print('User uploaded file \"{name}\" with length {length} bytes'.format(\r\n",
        "      name=fn, length=len(uploaded[fn])))\r\n",
        "\r\n",
        "# file = open(\"chat.txt\").read()"
      ],
      "execution_count": 3,
      "outputs": [
        {
          "output_type": "display_data",
          "data": {
            "text/html": [
              "\n",
              "     <input type=\"file\" id=\"files-020df41a-c864-47ac-b486-98df07d16029\" name=\"files[]\" multiple disabled\n",
              "        style=\"border:none\" />\n",
              "     <output id=\"result-020df41a-c864-47ac-b486-98df07d16029\">\n",
              "      Upload widget is only available when the cell has been executed in the\n",
              "      current browser session. Please rerun this cell to enable.\n",
              "      </output>\n",
              "      <script src=\"/nbextensions/google.colab/files.js\"></script> "
            ],
            "text/plain": [
              "<IPython.core.display.HTML object>"
            ]
          },
          "metadata": {
            "tags": []
          }
        },
        {
          "output_type": "error",
          "ename": "KeyboardInterrupt",
          "evalue": "ignored",
          "traceback": [
            "\u001b[0;31m---------------------------------------------------------------------------\u001b[0m",
            "\u001b[0;31mKeyboardInterrupt\u001b[0m                         Traceback (most recent call last)",
            "\u001b[0;32m<ipython-input-3-769e1b4f8e30>\u001b[0m in \u001b[0;36m<module>\u001b[0;34m()\u001b[0m\n\u001b[1;32m      1\u001b[0m \u001b[0;32mfrom\u001b[0m \u001b[0mgoogle\u001b[0m\u001b[0;34m.\u001b[0m\u001b[0mcolab\u001b[0m \u001b[0;32mimport\u001b[0m \u001b[0mfiles\u001b[0m\u001b[0;34m\u001b[0m\u001b[0;34m\u001b[0m\u001b[0m\n\u001b[0;32m----> 2\u001b[0;31m \u001b[0muploaded\u001b[0m \u001b[0;34m=\u001b[0m \u001b[0mfiles\u001b[0m\u001b[0;34m.\u001b[0m\u001b[0mupload\u001b[0m\u001b[0;34m(\u001b[0m\u001b[0;34m)\u001b[0m\u001b[0;34m\u001b[0m\u001b[0;34m\u001b[0m\u001b[0m\n\u001b[0m\u001b[1;32m      3\u001b[0m \u001b[0;34m\u001b[0m\u001b[0m\n\u001b[1;32m      4\u001b[0m \u001b[0;32mfor\u001b[0m \u001b[0mfn\u001b[0m \u001b[0;32min\u001b[0m \u001b[0muploaded\u001b[0m\u001b[0;34m.\u001b[0m\u001b[0mkeys\u001b[0m\u001b[0;34m(\u001b[0m\u001b[0;34m)\u001b[0m\u001b[0;34m:\u001b[0m\u001b[0;34m\u001b[0m\u001b[0;34m\u001b[0m\u001b[0m\n\u001b[1;32m      5\u001b[0m   print('User uploaded file \"{name}\" with length {length} bytes'.format(\n",
            "\u001b[0;32m/usr/local/lib/python3.6/dist-packages/google/colab/files.py\u001b[0m in \u001b[0;36mupload\u001b[0;34m()\u001b[0m\n\u001b[1;32m     62\u001b[0m   result = _output.eval_js(\n\u001b[1;32m     63\u001b[0m       'google.colab._files._uploadFiles(\"{input_id}\", \"{output_id}\")'.format(\n\u001b[0;32m---> 64\u001b[0;31m           input_id=input_id, output_id=output_id))\n\u001b[0m\u001b[1;32m     65\u001b[0m   \u001b[0mfiles\u001b[0m \u001b[0;34m=\u001b[0m \u001b[0m_collections\u001b[0m\u001b[0;34m.\u001b[0m\u001b[0mdefaultdict\u001b[0m\u001b[0;34m(\u001b[0m\u001b[0m_six\u001b[0m\u001b[0;34m.\u001b[0m\u001b[0mbinary_type\u001b[0m\u001b[0;34m)\u001b[0m\u001b[0;34m\u001b[0m\u001b[0;34m\u001b[0m\u001b[0m\n\u001b[1;32m     66\u001b[0m   \u001b[0;31m# Mapping from original filename to filename as saved locally.\u001b[0m\u001b[0;34m\u001b[0m\u001b[0;34m\u001b[0m\u001b[0;34m\u001b[0m\u001b[0m\n",
            "\u001b[0;32m/usr/local/lib/python3.6/dist-packages/google/colab/output/_js.py\u001b[0m in \u001b[0;36meval_js\u001b[0;34m(script, ignore_result, timeout_sec)\u001b[0m\n\u001b[1;32m     38\u001b[0m   \u001b[0;32mif\u001b[0m \u001b[0mignore_result\u001b[0m\u001b[0;34m:\u001b[0m\u001b[0;34m\u001b[0m\u001b[0;34m\u001b[0m\u001b[0m\n\u001b[1;32m     39\u001b[0m     \u001b[0;32mreturn\u001b[0m\u001b[0;34m\u001b[0m\u001b[0;34m\u001b[0m\u001b[0m\n\u001b[0;32m---> 40\u001b[0;31m   \u001b[0;32mreturn\u001b[0m \u001b[0m_message\u001b[0m\u001b[0;34m.\u001b[0m\u001b[0mread_reply_from_input\u001b[0m\u001b[0;34m(\u001b[0m\u001b[0mrequest_id\u001b[0m\u001b[0;34m,\u001b[0m \u001b[0mtimeout_sec\u001b[0m\u001b[0;34m)\u001b[0m\u001b[0;34m\u001b[0m\u001b[0;34m\u001b[0m\u001b[0m\n\u001b[0m\u001b[1;32m     41\u001b[0m \u001b[0;34m\u001b[0m\u001b[0m\n\u001b[1;32m     42\u001b[0m \u001b[0;34m\u001b[0m\u001b[0m\n",
            "\u001b[0;32m/usr/local/lib/python3.6/dist-packages/google/colab/_message.py\u001b[0m in \u001b[0;36mread_reply_from_input\u001b[0;34m(message_id, timeout_sec)\u001b[0m\n\u001b[1;32m     99\u001b[0m     \u001b[0mreply\u001b[0m \u001b[0;34m=\u001b[0m \u001b[0m_read_next_input_message\u001b[0m\u001b[0;34m(\u001b[0m\u001b[0;34m)\u001b[0m\u001b[0;34m\u001b[0m\u001b[0;34m\u001b[0m\u001b[0m\n\u001b[1;32m    100\u001b[0m     \u001b[0;32mif\u001b[0m \u001b[0mreply\u001b[0m \u001b[0;34m==\u001b[0m \u001b[0m_NOT_READY\u001b[0m \u001b[0;32mor\u001b[0m \u001b[0;32mnot\u001b[0m \u001b[0misinstance\u001b[0m\u001b[0;34m(\u001b[0m\u001b[0mreply\u001b[0m\u001b[0;34m,\u001b[0m \u001b[0mdict\u001b[0m\u001b[0;34m)\u001b[0m\u001b[0;34m:\u001b[0m\u001b[0;34m\u001b[0m\u001b[0;34m\u001b[0m\u001b[0m\n\u001b[0;32m--> 101\u001b[0;31m       \u001b[0mtime\u001b[0m\u001b[0;34m.\u001b[0m\u001b[0msleep\u001b[0m\u001b[0;34m(\u001b[0m\u001b[0;36m0.025\u001b[0m\u001b[0;34m)\u001b[0m\u001b[0;34m\u001b[0m\u001b[0;34m\u001b[0m\u001b[0m\n\u001b[0m\u001b[1;32m    102\u001b[0m       \u001b[0;32mcontinue\u001b[0m\u001b[0;34m\u001b[0m\u001b[0;34m\u001b[0m\u001b[0m\n\u001b[1;32m    103\u001b[0m     if (reply.get('type') == 'colab_reply' and\n",
            "\u001b[0;31mKeyboardInterrupt\u001b[0m: "
          ]
        }
      ]
    },
    {
      "cell_type": "code",
      "metadata": {
        "id": "PfL2uxtWTVhS"
      },
      "source": [
        "file = open(\"chat.txt\").read()\r\n",
        "len(file)\r\n",
        "import random\r\n",
        "import sys\r\n"
      ],
      "execution_count": 5,
      "outputs": []
    },
    {
      "cell_type": "code",
      "metadata": {
        "id": "XLVSDMN8VPut",
        "colab": {
          "base_uri": "https://localhost:8080/"
        },
        "outputId": "fdc430d8-e93b-4773-d0ee-63627ae7f3a3"
      },
      "source": [
        "chars = sorted(list(set(file)))\r\n",
        "len(chars)"
      ],
      "execution_count": 6,
      "outputs": [
        {
          "output_type": "execute_result",
          "data": {
            "text/plain": [
              "469"
            ]
          },
          "metadata": {
            "tags": []
          },
          "execution_count": 6
        }
      ]
    },
    {
      "cell_type": "code",
      "metadata": {
        "id": "LgBtPDflVc6D"
      },
      "source": [
        "char_indices = dict((c,i) for i, c in enumerate(chars))\r\n",
        "indices_char = dict((i,c) for i,c in enumerate(chars))"
      ],
      "execution_count": 7,
      "outputs": []
    },
    {
      "cell_type": "code",
      "metadata": {
        "id": "hF1gvQsoVdw2"
      },
      "source": [
        "maxlen = 40\r\n",
        "step = 3\r\n",
        "sentences = []\r\n",
        "next_chars = []\r\n",
        "file = file[1000000:]\r\n",
        "\r\n",
        "for i in range(0, len(file) - maxlen, step):\r\n",
        "    sentences.append(file[i: i + maxlen])\r\n",
        "    next_chars.append(file[i + maxlen])\r\n",
        "x = np.zeros((len(sentences), maxlen, len(chars)), dtype=np.bool)\r\n",
        "y = np.zeros((len(sentences), len(chars)), dtype=np.bool)\r\n",
        "for i, sentence in enumerate(sentences):\r\n",
        "    for t, char in enumerate(sentence):\r\n",
        "        x[i, t, char_indices[char]] = 1\r\n",
        "    y[i, char_indices[next_chars[i]]] = 1"
      ],
      "execution_count": 8,
      "outputs": []
    },
    {
      "cell_type": "code",
      "metadata": {
        "id": "FB1uLyneWMw9"
      },
      "source": [
        "from keras.models import Sequential\r\n",
        "from keras.layers import Dense, Activation\r\n",
        "from keras.layers import LSTM\r\n",
        "from keras.optimizers import RMSprop\r\n",
        "import tensorflow as tf\r\n",
        "model = Sequential()\r\n",
        "model.add(LSTM(128, input_shape=(maxlen, len(chars))))\r\n",
        "model.add(Dense(len(chars)))\r\n",
        "model.add(Activation('softmax'))\r\n",
        "optimizer = RMSprop(lr=0.01)\r\n",
        "model.compile(loss='categorical_crossentropy', optimizer=optimizer)"
      ],
      "execution_count": 9,
      "outputs": []
    },
    {
      "cell_type": "code",
      "metadata": {
        "id": "EThOOYNPWP0j"
      },
      "source": [
        "def sample(preds, temperature=1.0):\r\n",
        "    # helper function to sample an index from a probability array\r\n",
        "    preds = np.asarray(preds).astype('float64')\r\n",
        "    preds = np.log(preds) / temperature\r\n",
        "    exp_preds = np.exp(preds)\r\n",
        "    preds = exp_preds / np.sum(exp_preds)\r\n",
        "    probas = np.random.multinomial(1, preds, 1)\r\n",
        "    return np.argmax(probas)\r\n",
        "def on_epoch_end(epoch, logs):\r\n",
        "    # Function invoked at end of each epoch. Prints generated text.\r\n",
        "    print()\r\n",
        "    print('----- Generating text after Epoch: %d' % epoch)\r\n",
        "\r\n",
        "    start_index = random.randint(0, len(file) - maxlen - 1)\r\n",
        "    for diversity in [0.2, 0.5, 1.0, 1.2]:\r\n",
        "        print('----- diversity:', diversity)\r\n",
        "\r\n",
        "        generated = ''\r\n",
        "        sentence = file[start_index: start_index + maxlen]\r\n",
        "        generated += sentence\r\n",
        "        print('----- Generating with seed: \"' + sentence + '\"')\r\n",
        "        sys.stdout.write(generated)\r\n",
        "\r\n",
        "        for i in range(400):\r\n",
        "            x_pred = np.zeros((1, maxlen, len(chars)))\r\n",
        "            for t, char in enumerate(sentence):\r\n",
        "                x_pred[0, t, char_indices[char]] = 1.\r\n",
        "\r\n",
        "            preds = model.predict(x_pred, verbose=0)[0]\r\n",
        "            next_index = sample(preds, diversity)\r\n",
        "            next_char = indices_char[next_index]\r\n",
        "\r\n",
        "            generated += next_char\r\n",
        "            sentence = sentence[1:] + next_char\r\n",
        "\r\n",
        "            sys.stdout.write(next_char)\r\n",
        "            sys.stdout.flush()\r\n",
        "        print()\r\n",
        "print_callback = tf.keras.callbacks.LambdaCallback(on_epoch_end=on_epoch_end)"
      ],
      "execution_count": 10,
      "outputs": []
    },
    {
      "cell_type": "code",
      "metadata": {
        "id": "gXA3vtonWYMB"
      },
      "source": [
        "from keras.callbacks import ModelCheckpoint\r\n",
        "\r\n",
        "filepath = \"weights.hdf5\"\r\n",
        "checkpoint = ModelCheckpoint(filepath, monitor='loss',\r\n",
        "                             verbose=1, save_best_only=True,\r\n",
        "                             mode='min')"
      ],
      "execution_count": 11,
      "outputs": []
    },
    {
      "cell_type": "code",
      "metadata": {
        "id": "WE6rXatDWcRh"
      },
      "source": [
        "from keras.callbacks import ReduceLROnPlateau\r\n",
        "reduce_lr = ReduceLROnPlateau(monitor='loss', factor=0.2,\r\n",
        "                              patience=1, min_lr=0.001)\r\n",
        "callbacks = [print_callback, checkpoint, reduce_lr]"
      ],
      "execution_count": 12,
      "outputs": []
    },
    {
      "cell_type": "code",
      "metadata": {
        "id": "_kMFVG3dY91X",
        "colab": {
          "base_uri": "https://localhost:8080/"
        },
        "outputId": "32dc1dad-03c5-4482-e926-d7f1e3ec30f7"
      },
      "source": [
        "model.fit(x, y, batch_size=128, epochs=5, callbacks=callbacks)\r\n"
      ],
      "execution_count": 13,
      "outputs": [
        {
          "output_type": "stream",
          "text": [
            "Epoch 1/5\n",
            "4070/4070 [==============================] - 826s 202ms/step - loss: 1.5287\n",
            "\n",
            "----- Generating text after Epoch: 0\n",
            "----- diversity: 0.2\n",
            "----- Generating with seed: \"attached file scanned image \n",
            "too much on\"\n",
            "attached file scanned image \n",
            "too much on the all some be the that is because what is the the can that is the that was the that me the that is the lies and dad the the to the that what and have the the read the to people the see that to the that is the to the to the that is the that is the see that is the that is and that is the good\n",
            "19/12/2020, 22:34 - +91 94802 54643: I don't the let's and it the the the to the that was the make that w\n",
            "----- diversity: 0.5\n",
            "----- Generating with seed: \"attached file scanned image \n",
            "too much on\"\n",
            "attached file scanned image \n",
            "too much on a selled to are that is much it like the turn\n",
            "20/12/2020, 01:19 - +91 89712 76807: I can wait\n",
            "10/12/2020, 22:39 - +91 94802 54643: I have it in read you want in to no how no put the send that what is the thataralin the sendow\n",
            "17/12/2020, 21:25 - +91 89712 76807: what see me and the rander can be a sendally sound sear come to part have you can loting the be a send time to that the weep work better\n",
            "----- diversity: 1.0\n",
            "----- Generating with seed: \"attached file scanned image \n",
            "too much on\"\n",
            "attached file scanned image \n",
            "too much on mainede\n",
            "14/12/2020, 16:40 - Ishaan: You'rly againt no konnomylon they watch leasix mingchy\n",
            "\n",
            "Letter an let I can waitedes wasch wro poficamravid the degerented\n",
            "21/01/2021, 10:58 - Murali Unfortunately: nro nach an be u in boo morce yeuemale sucis\n",
            "10/12/2020, 11:17 - Murali Unfortunately: Change get Chy wasp\n",
            "08/01/2021, 16:46 - Ishaan: AMI i inseen yested\n",
            "08/01/2021, 21:29 - Sush: I can how it hair\n",
            "----- diversity: 1.2\n",
            "----- Generating with seed: \"attached file scanned image \n",
            "too much on\"\n",
            "attached file scanned image \n",
            "too much onfillsyte 😂😂\n",
            "28/12/2020, 15:17 - Ishaan: Pkyygaich\n",
            "01/01/2021, 15:57 - Sachxn: ejauh aghikl got to ascay I had\n",
            "16/12/2020, 22:09 - Ishaan: Cyoundly i  me\n",
            "suite 0 yeptecjep\n",
            "pro\n",
            "I'm i dont goe\n",
            "22/12/2020, 00:0\" - Sush: yeah you porned xveat cutef 😂\n",
            "19/12/2220, 15:29 - +91 96201 79084: one capsicaigofac\n",
            "07/01/2021, 23:18 - +91 94802 54643: I know ahoring andokeverdy\n",
            "21/12/2020, 10:28 - +91 94802 54643\n",
            "\n",
            "Epoch 00001: loss improved from inf to 1.23745, saving model to weights.hdf5\n",
            "Epoch 2/5\n",
            "4070/4070 [==============================] - 831s 204ms/step - loss: 1.0646\n",
            "\n",
            "----- Generating text after Epoch: 1\n",
            "----- diversity: 0.2\n",
            "----- Generating with seed: \"2/2020, 02:10 - Ishaan: so whenever some\"\n",
            "2/2020, 02:10 - Ishaan: so whenever some the seming the man for the the shit the sense and the sense and the the the and for the this one the stickers the say and the sense the sen my all when it was the send the say the sear and the sense the the with a say the the play the least the said see the the senting the shit is the say the to the sain the say a pare the like the the wile the sain the and the bart in the say a sain the sen a sa\n",
            "----- diversity: 0.5\n",
            "----- Generating with seed: \"2/2020, 02:10 - Ishaan: so whenever some\"\n",
            "2/2020, 02:10 - Ishaan: so whenever something it is like find a swands the are is a read video for the to core that and the latt say was the bus\n",
            "15/12/2020, 1"
          ],
          "name": "stdout"
        },
        {
          "output_type": "stream",
          "text": [
            "/usr/local/lib/python3.6/dist-packages/ipykernel_launcher.py:4: RuntimeWarning: divide by zero encountered in log\n",
            "  after removing the cwd from sys.path.\n"
          ],
          "name": "stderr"
        },
        {
          "output_type": "stream",
          "text": [
            "8:14 - +91 96861 84307: You will the who real started to play the say is it im the for that and the playing the compent a one you can sear will they the bost the sall the hatting the this sext of the the and play the on the for the one a shiting man of the pu loting the the to you \n",
            "----- diversity: 1.0\n",
            "----- Generating with seed: \"2/2020, 02:10 - Ishaan: so whenever some\"\n",
            "2/2020, 02:10 - Ishaan: so whenever some and dinerated you to play hamis i good of in into you really dogem ctrets\n",
            "28/12/2020, 21:17 - Ishaan: +1\n",
            "17/12/2020, 19:19 - Murali Unfortunately: <Media omitted>\n",
            "13/01/2021, 29:13 - Anoop K. N: Sof of utky viet was a all of people\n",
            "11/01/2021, 14:4o - +91 96861 84307: <Media omitted>\n",
            "20/12/2020, 09:10 - Ishaan: em conten\n",
            "12/12/2020, 22:15 - Murali Unfortunately: _?\n",
            "08/01/2021, 19:59 - Murali Unfo\n",
            "----- diversity: 1.2\n",
            "----- Generating with seed: \"2/2020, 02:10 - Ishaan: so whenever some\"\n",
            "2/2020, 02:10 - Ishaan: so whenever some gro\n",
            "20/01/2021, 07:28 - Ishaan: SsIf\n",
            "08/01/2021, 18:38 - Murali Unfortunately: i\n",
            "19/01/2021, 18:54 - Ishaan: Bepotion\n",
            "10/01/2021, 17:54 - Rajath V: th peoplen a ans\n",
            "10/01/2021, 10:26 - Pareekshith: Eys. You daespped\n",
            "10/12/2020, 11:57 - Ishaan: This Leaving hey smal\n",
            "08/01/2021, 14:19 - dusha Task yyt Aa ctoke\n",
            "28/12/2020, 03:50 - Rajath V: Am\n",
            "25/12/2020, 15:10 - +91 89712 76807: <Media omitted>\n",
            "23/\n",
            "\n",
            "Epoch 00002: loss improved from 1.23745 to 1.05976, saving model to weights.hdf5\n",
            "Epoch 3/5\n",
            "4070/4070 [==============================] - 829s 204ms/step - loss: 1.0279\n",
            "\n",
            "----- Generating text after Epoch: 2\n",
            "----- diversity: 0.2\n",
            "----- Generating with seed: \"mmer but if you have better ways tell me\"\n",
            "mmer but if you have better ways tell me but you don't the for the send the many to do the many the sticker sticker the sent the says and some played the send the send in the send and all a send the to the bad the want to some come the not the says the sext was the search the and the bad\n",
            "19/12/2020, 18:16 - +91 96201 79084: <Media omitted>\n",
            "19/12/2020, 20:54 - +91 96201 79084: <Media omitted>\n",
            "21/01/2021, 16:36 - +91 96201 79084: <Media o\n",
            "----- diversity: 0.5\n",
            "----- Generating with seed: \"mmer but if you have better ways tell me\"\n",
            "mmer but if you have better ways tell me as shit was the person Charsh are this casted\n",
            "21/01/2021, 16:03 - +91 96201 79084: <Media omitted>\n",
            "24/12/2020, 15:53 - +91 96201 79084: <Media omitted>\n",
            "07/12/2020, 15:16 - +91 96201 79084: <Media omitted>\n",
            "23/12/2020, 22:50 - +91 94802 54643: <Media omitted>\n",
            "08/01/2021, 21:53 - Ishaan: <Media omitted>\n",
            "09/01/2021, 20:54 - +91 94802 54643: Sook the reper\n",
            "14/01/2021, 00:36 - +91 96201 79084: <Media o\n",
            "----- diversity: 1.0\n",
            "----- Generating with seed: \"mmer but if you have better ways tell me\"\n",
            "mmer but if you have better ways tell me yes\n",
            "10/01/2021, 21:56 - Anoop K.02: <Media omitted>\n",
            "05/01/2021, 14:04 - Ishaan: <Media omitted>\n",
            "21/01/2021, 15:44 - Sachxn: Mopald8\n",
            "23/12/2020, 21:31 - Murali Unfortunately: Noice just nevr lots\n",
            "11/12/2020, 00:48 - +91 96201 79084: It's see  chadie rido relorrvie\n",
            "11/01/2021, 14:33 - +91 96201 79084: <Media omitted>\n",
            "05/01/2021, 14:55 - +91 96201 79084: Agdundly stink\n",
            "20/01/2021, 14:54 - Ishaan: So\n",
            "----- diversity: 1.2\n",
            "----- Generating with seed: \"mmer but if you have better ways tell me\"\n",
            "mmer but if you have better ways tell me op boyy\n",
            "18/12/2020, 23:38 - Sush: What want it amssillyoon coration 9486not 2no youen'n: ?\n",
            "20/12/2020, 21:24 - Sachxn: Goat 2o ?\n",
            "17/12/2020, 14:58 - Sachxn: As ++\n",
            "14/01/2021, 16:59 - Ishaan: Gisters pbho 't reYuminn vidwin ht ronst\n",
            "01/01/2021, 00:29 - +91 96201 79084: 100 whithrod yeat?\n",
            "23/12/2020, 16:59 - Murali Unfortunately: @919620179084 issa Podoiss come us iugh message la5et. Iksuseor wasle\n",
            "\n",
            "Epoch 00003: loss improved from 1.05976 to 1.03095, saving model to weights.hdf5\n",
            "Epoch 4/5\n",
            "4070/4070 [==============================] - 836s 205ms/step - loss: 1.0122\n",
            "\n",
            "----- Generating text after Epoch: 3\n",
            "----- diversity: 0.2\n",
            "----- Generating with seed: \"1 89712 76807: Intense\n",
            "They take copy ri\"\n",
            "1 89712 76807: Intense\n",
            "They take copy right in the with the sticker for the stickers the manga stickers something the discord the because is the stickers same the same the sex because the game the sticker in the bass we don't say so sex bro the stickers some sex stickers called the play the still the same the play and sex so man the stickers sex sticker the sticker best the being and the come the sticker sticker the stickers stickers th\n",
            "----- diversity: 0.5\n",
            "----- Generating with seed: \"1 89712 76807: Intense\n",
            "They take copy ri\"\n",
            "1 89712 76807: Intense\n",
            "They take copy right and the like like on this so the back makes the made so the chats a with game the back the me a then\n",
            "08/01/2021, 20:00 - Chaitanya: <Media omitted>\n",
            "12/01/2021, 21:05 - Rajath V: <Media omitted>\n",
            "05/01/2021, 20:05 - +91 96861 84307: <Media omitted>\n",
            "07/01/2021, 20:36 - +91 96201 79084: <Media omitted>\n",
            "08/01/2021, 19:09 - Chaitanya: I sush it was a girl be aine\n",
            "07/12/2020, 16:05 - +91 96861 84307:\n",
            "----- diversity: 1.0\n",
            "----- Generating with seed: \"1 89712 76807: Intense\n",
            "They take copy ri\"\n",
            "1 89712 76807: Intense\n",
            "They take copy rirryCbili\n",
            "05/01/2021, 04:03 - Sachxn: That's boss\n",
            "05/01/2021, 00:40 - +91 89712 76807: I didn't kipp to my that like bro your lmg\n",
            "13/12/2020, 13:39 - Govind: <Media omitted>\n",
            "07/01/2021, 20:05 - +91 96201 79084: <Media omitted>\n",
            "06/01/2021, 23:05 - Murali Unfortunately: Weakes videossulap a dont coI\n",
            "17/12/2020, 12:18 - Govind: I sush logcu lith we already\n",
            "19/12/2020, 22:24 - +91 96861 84307: I means \n",
            "----- diversity: 1.2\n",
            "----- Generating with seed: \"1 89712 76807: Intense\n",
            "They take copy ri\"\n",
            "1 89712 76807: Intense\n",
            "They take copy rightty and bashed u did \n",
            "That's ot are itnky013 nunloay. Anyic kiptrock\n",
            "06/01/2021, 22:18 - Rajath V: 3 ongosewg\n",
            "22/12/2020, 19:08 - Sush: wow disrpevi is the not\n",
            "06/01/2021, 23:22 - Ishaan: khan't\n",
            "18/01/2021, 00:01 - nswaut otbly would knowe hruaboloru\n",
            "11/12/2020, 23:46 - Sachxn: Doist'r parndathiw re wand byongys ca2storml vivess\n",
            "05/12/2020, 09:30 - Murali Unfortunately: Will but by0\n",
            "05/01/2021, \n",
            "\n",
            "Epoch 00004: loss improved from 1.03095 to 1.01616, saving model to weights.hdf5\n",
            "Epoch 5/5\n",
            "4070/4070 [==============================] - 835s 205ms/step - loss: 1.0038\n",
            "\n",
            "----- Generating text after Epoch: 4\n",
            "----- diversity: 0.2\n",
            "----- Generating with seed: \"r\n",
            "07/01/2021, 21:34 - +91 96201 79084: O\"\n",
            "r\n",
            "07/01/2021, 21:34 - +91 96201 79084: Okay with the game to same the part the same that like the sent the part the same the part the people and the people was the part the sear the back\n",
            "07/01/2021, 19:01 - +91 96201 79084: <Media omitted>\n",
            "19/12/2020, 18:17 - +91 96201 79084: <Media omitted>\n",
            "22/12/2020, 15:00 - +91 96201 79084: <Media omitted>\n",
            "22/12/2020, 15:31 - Sush: <Media omitted>\n",
            "19/12/2020, 18:18 - Sush: <Media omitted>\n",
            "08/01/2021\n",
            "----- diversity: 0.5\n",
            "----- Generating with seed: \"r\n",
            "07/01/2021, 21:34 - +91 96201 79084: O\"\n",
            "r\n",
            "07/01/2021, 21:34 - +91 96201 79084: Oh don't can real see the with sticker the good a boo\n",
            "10/01/2021, 16:44 - +91 96201 79084: <Media omitted>\n",
            "11/01/2021, 15:32 - Sachxn: <Media omitted>\n",
            "16/01/2021, 16:20 - +91 96201 79084: Oh that we say this is some times the seacher was a good\n",
            "27/12/2020, 22:21 - Sush: Who is that is\n",
            "27/12/2020, 23:55 - Sush: <Media omitted>\n",
            "22/12/2020, 15:35 - +91 96201 79084: <Media omitted>\n",
            "08/01/2021, 13:31 - \n",
            "----- diversity: 1.0\n",
            "----- Generating with seed: \"r\n",
            "07/01/2021, 21:34 - +91 96201 79084: O\"\n",
            "r\n",
            "07/01/2021, 21:34 - +91 96201 79084: Okay isk is\n",
            "25/12/2020, 15:00 - +91 89712 76807:ay group loes in myself where people to prett\n",
            "08/12/2020, 22:10 - +91 96861 84307: On one\n",
            "05/01/2021, 03:57 - Sush: my co\n",
            "27/12/2020, 23:51 - Sachxn: Amber gid viily play today\n",
            "11/12/2020, 18:00 - +91 96201 79084: That's anyone har.hoo music the grape well be some rebying fucking I was dear\n",
            "15/12/2020, 21:30 - +91 96201 79084: <Media omitted>\n",
            "08/01/20\n",
            "----- diversity: 1.2\n",
            "----- Generating with seed: \"r\n",
            "07/01/2021, 21:34 - +91 96201 79084: O\"\n",
            "r\n",
            "07/01/2021, 21:34 - +91 96201 79084: Oh nav20aoy\n",
            "30/12/2020, 20:41 - Rajath V: it was eallyst\n",
            "05/01/2021, 04:10 - Sush: Aandonsy Illaan 😂\n",
            "08/01/2021, 12:45 - Sachxn: \n",
            "Rl sef better. Hind. L8😂\n",
            "26/12/2020, 04:10 - +91 96201 79084: Ikswer die\n",
            "27/12/2020, 15:07 - Rajath V: h\n",
            "v9. I'm d, Chekk you gholeant\n",
            "05/01/2021, 03:31 - Ishaan: approsion dyom bro trlot.\n",
            "10/01/2021, 21:35 - Sachxn: 2tically depere you cante\n",
            "31/12/2020, 12:31 - echess\n",
            "1\n",
            "\n",
            "Epoch 00005: loss improved from 1.01616 to 1.00759, saving model to weights.hdf5\n"
          ],
          "name": "stdout"
        },
        {
          "output_type": "execute_result",
          "data": {
            "text/plain": [
              "<tensorflow.python.keras.callbacks.History at 0x7f406a456208>"
            ]
          },
          "metadata": {
            "tags": []
          },
          "execution_count": 13
        }
      ]
    },
    {
      "cell_type": "code",
      "metadata": {
        "id": "2J17k2hHZAuP"
      },
      "source": [
        "def generate_text(length, diversity):\r\n",
        "    # Get random starting text\r\n",
        "    start_index = random.randint(0, len(file) - maxlen - 1)\r\n",
        "    generated = ''\r\n",
        "    sentence = file[start_index: start_index + maxlen]\r\n",
        "    generated += sentence\r\n",
        "    for i in range(length):\r\n",
        "            x_pred = np.zeros((1, maxlen, len(chars)))\r\n",
        "            for t, char in enumerate(sentence):\r\n",
        "                x_pred[0, t, char_indices[char]] = 1.\r\n",
        "\r\n",
        "            preds = model.predict(x_pred, verbose=0)[0]\r\n",
        "            next_index = sample(preds, diversity)\r\n",
        "            next_char = indices_char[next_index]\r\n",
        "\r\n",
        "            generated += next_char\r\n",
        "            sentence = sentence[1:] + next_char\r\n",
        "    return generated"
      ],
      "execution_count": 16,
      "outputs": []
    },
    {
      "cell_type": "code",
      "metadata": {
        "id": "8sH4_fYDZJw_",
        "colab": {
          "base_uri": "https://localhost:8080/"
        },
        "outputId": "64529565-e721-4514-9875-b0a225083741"
      },
      "source": [
        "print(generate_text(10000, 0.5))"
      ],
      "execution_count": 17,
      "outputs": [
        {
          "output_type": "stream",
          "text": [
            "/usr/local/lib/python3.6/dist-packages/ipykernel_launcher.py:4: RuntimeWarning: divide by zero encountered in log\n",
            "  after removing the cwd from sys.path.\n"
          ],
          "name": "stderr"
        },
        {
          "output_type": "stream",
          "text": [
            "020, 14:14 - +91 89712 76807: Sad\n",
            "17/12/2020, 15:24 - +91 96201 79084: That is the game interes\n",
            "08/01/2021, 19:08 - +91 96201 79084: Yeah I want to play and back from the man no\n",
            "16/01/2021, 15:34 - Sachxn: I am it is this the play this mush are send the play as you agreating that\n",
            "07/01/2021, 19:12 - +91 96201 79084: Which who beain thing\n",
            "11/12/2020, 15:17 - Pareekshith: ah\n",
            "08/01/2021, 23:16 - Sush: Shreasion this was make shit shit\n",
            "06/01/2021, 13:52 - +91 96201 79084: <Media omitted>\n",
            "28/12/2020, 15:18 - Sachxn: <Media omitted>\n",
            "23/12/2020, 12:13 - +91 96201 79084: <Media omitted>\n",
            "24/12/2020, 20:30 - +91 96201 79084: <Media omitted>\n",
            "06/01/2021, 23:12 - +91 96201 79084: The spam man was the coming the don't should laugh why\n",
            "20/01/2021, 14:47 - +91 96201 79084: That make the pirly there was some with the famor and see the enting this this me\n",
            "21/01/2021, 15:32 - Sush: You want to so better sam the see that of the succ\n",
            "08/01/2021, 23:57 - Sush: there is mart weach and the paran the sid\n",
            "21/12/2020, 15:13 - +91 96861 84307: What is randame more ending and wow a parind of the mand that is the game him want the good some shit that there with me\n",
            "08/01/2021, 19:13 - +91 96201 79084: <Media omitted>\n",
            "19/12/2020, 18:33 - +91 96201 79084: <Media omitted>\n",
            "19/12/2020, 18:27 - +91 96201 79084: We was the picture\n",
            "05/01/2021, 18:03 - Sush: <Media omitted>\n",
            "21/01/2021, 15:36 - +91 96201 79084: What is a ran more you dassite in the with that are some better steam the mage\n",
            "05/01/2021, 18:17 - Sachxn: <Media omitted>\n",
            "22/12/2020, 15:10 - +91 96201 79084: <Media omitted>\n",
            "22/12/2020, 15:02 - +91 96201 79084: <Media omitted>\n",
            "27/12/2020, 22:17 - Sush: She's seam\n",
            "08/01/2021, 13:55 - +91 96201 79084: Better do some how that's me and she make you have the shit in the sear to play the rap it's a proper play everything who is the groups of heasion\n",
            "28/12/2020, 19:57 - Sachxn: <Media omitted>\n",
            "19/12/2020, 18:37 - +91 96201 79084: <Media omitted>\n",
            "07/01/2021, 14:40 - Murali Unfortunately: Oh bro heasion out to the probles to the proper to deleted\n",
            "08/01/2021, 23:48 - +91 96201 79084: <Media omitted>\n",
            "19/12/2020, 18:04 - +91 96201 79084: The propsod\n",
            "11/01/2021, 17:10 - +91 96201 79084: Then I'm sticker this thing on that is some you get and some the want no\n",
            "08/01/2021, 23:57 - Sush: <Media omitted>\n",
            "19/12/2020, 18:13 - Sachxn: <Media omitted>\n",
            "28/12/2020, 15:31 - Kaustubh: I'll say some so that shit\n",
            "07/01/2021, 19:08 - Sachxn: <Media omitted>\n",
            "05/01/2021, 14:08 - +91 96861 84307: What is the me\n",
            "10/01/2021, 18:17 - +91 96201 79084: Is a called hard\n",
            "27/12/2020, 23:57 - +91 96201 79084: <Media omitted>\n",
            "10/01/2021, 17:48 - +91 96201 79084: Ok with anything and a times the proper the come mant and this back who with/unt is the exams the tear this this there play good\n",
            "28/12/2020, 18:43 - Sush: <Media omitted>\n",
            "27/12/2020, 22:32 - Sachxn: <Media omitted>\n",
            "22/12/2020, 15:37 - Sush: I was the come on formation\n",
            "07/01/2021, 12:59 - +91 96201 79084: The simiam\n",
            "15/12/2020, 22:04 - +91 96201 79084: <Media omitted>\n",
            "22/12/2020, 15:36 - Chaitanya: <Media omitted>\n",
            "08/01/2021, 23:13 - Sush: <Media omitted>\n",
            "10/01/2021, 12:04 - Sachxn: <Media omitted>\n",
            "08/01/2021, 19:01 - Ishaan: thic the we will be send for bad\n",
            "20/01/2021, 18:40 - Murali Unfortunately: I thought is the part\n",
            "07/01/2021, 14:08 - Sush: no for that seasing this he was now\n",
            "05/01/2021, 13:53 - Sush: Om should paran the people in me what I was it with the his\n",
            "05/01/2021, 18:24 - +91 96201 79084: <Media omitted>\n",
            "10/01/2021, 15:10 - Sush: Sto nice he people in everyone with meaning in the pard\n",
            "22/12/2020, 15:32 - Rajath V: <Media omitted>\n",
            "19/12/2020, 19:51 - +91 96201 79084: <Media omitted>\n",
            "11/01/2021, 15:32 - Sush: I am and it send the talle game to all where some is the picasso he's so uninthan cance this me the wait the same it was some shit good\n",
            "19/01/2021, 19:12 - Sush: Charsh it's to came the same\n",
            "19/12/2020, 18:17 - Sachxn: <Media omitted>\n",
            "20/01/2021, 10:16 - Sachxn: <Media omitted>\n",
            "28/12/2020, 15:05 - Sush: <Media omitted>\n",
            "22/12/2020, 15:37 - Sush: you understand, the way some and that shit\n",
            "28/12/2020, 19:01 - Sush: <Media omitted>\n",
            "09/01/2021, 18:09 - +91 96201 79084: <Media omitted>\n",
            "22/12/2020, 16:30 - +91 96201 79084: <Media omitted>\n",
            "20/01/2021, 16:09 - Sush: <Media omitted>\n",
            "22/12/2020, 15:10 - Sush: What works so make same\n",
            "07/01/2021, 19:02 - +91 96201 79084: What is the bars\n",
            "11/01/2021, 14:48 - Sachxn: He all about on the propsos is some team\n",
            "05/01/2021, 18:25 - +91 96201 79084: <Media omitted>\n",
            "11/01/2021, 13:05 - Sachxn: The group and some boomer\n",
            "11/12/2020, 15:19 - +91 96201 79084: <Media omitted>\n",
            "08/01/2021, 14:10 - +91 96201 79084: <Media omitted>\n",
            "07/01/2021, 14:05 - Rajath V: <Media omitted>\n",
            "28/12/2020, 15:13 - Sush: <Media omitted>\n",
            "11/01/2021, 14:34 - Ishaan: This message was deleted\n",
            "08/12/2020, 13:32 - Ishaan: on the mean manacoral this who go a good\n",
            "05/01/2021, 03:50 - Sachxn: <Media omitted>\n",
            "10/01/2021, 01:53 - Sachxn: <Media omitted>\n",
            "22/12/2020, 15:12 - Sush: I have the man\n",
            "05/01/2021, 03:30 - Sush: @919481943109 is the one with that are but make thing the parata come the people on the same\n",
            "22/12/2020, 15:01 - Murali Unfortunately: it m6f0?\n",
            "22/12/2020, 15:12 - Murali Unfortunately: I will play the shit\n",
            "07/01/2021, 19:13 - Chaitanya: came the part on the same the same intraching and head\n",
            "09/01/2021, 18:14 - +91 96861 84307: <Media omitted>\n",
            "09/01/2021, 00:26 - Sush: You wanted the good\n",
            "10/01/2021, 15:01 - Ishaan: or the bars on the makes\n",
            "14/01/2021, 16:34 - Sush: Ah from it's a send that\n",
            "10/01/2021, 15:11 - +91 96201 79084: <Media omitted>\n",
            "11/01/2021, 14:30 - Ishaan: Sears come the pain\n",
            "07/01/2021, 19:17 - +91 96201 79084: <Media omitted>\n",
            "11/12/2020, 13:31 - +91 96201 79084: What me of the same the game\n",
            "19/12/2020, 18:18 - +91 96201 79084: <Media omitted>\n",
            "26/12/2020, 14:55 - Ishaan: I didn't want to the mang\n",
            "11/01/2021, 01:33 - +91 96201 79084: <Media omitted>\n",
            "22/12/2020, 15:04 - +91 96201 79084: I am gonna go there with that shit\n",
            "08/01/2021, 14:14 - +91 96201 79084: <Media omitted>\n",
            "21/01/2021, 15:17 - Sush: All what you deal you wine the rapt can that shame that is the same the part\n",
            "25/12/2020, 15:26 - Chaitanya: <Media omitted>\n",
            "18/01/2021, 16:09 - +91 96201 79084: <Media omitted>\n",
            "11/01/2021, 15:36 - +91 96201 79084: <Media omitted>\n",
            "28/12/2020, 15:16 - Murali Unfortunately: emm that is stopp\n",
            "19/12/2020, 18:17 - +91 96201 79084: <Media omitted>\n",
            "20/01/2021, 18:57 - Rajath V: I am what is this with the pron that now\n",
            "22/12/2020, 16:07 - +91 96201 79084: <Media omitted>\n",
            "23/12/2020, 11:57 - Ishaan: it is that's a battle the prople to same and you part the fame\n",
            "27/12/2020, 22:00 - Rajath V: <Media omitted>\n",
            "11/01/2021, 15:17 - +91 96201 79084: <Media omitted>\n",
            "21/01/2021, 15:36 - Sush: I see that was the same discord it make of the batt. I said and there is the far like a from at and that we're seam\n",
            "05/01/2021, 17:17 - +91 96201 79084: I have to the play make same the sear some that in barss all probles the sticker of you to the play proper with that one seam and her sticker\n",
            "11/12/2020, 16:08 - Murali Unfortunately: I got see the say good like the bars you want to come that that need to see this\n",
            "19/12/2020, 18:21 - +91 96201 79084: <Media omitted>\n",
            "22/12/2020, 16:11 - Ishaan: <Media omitted>\n",
            "19/12/2020, 18:02 - Sush: <Media omitted>\n",
            "05/01/2021, 13:53 - Ishaan: there all the send and all stard bars\n",
            "10/01/2021, 19:13 - +91 96201 79084: <Media omitted>\n",
            "07/01/2021, 18:51 - +91 96201 79084: <Media omitted>\n",
            "27/12/2020, 23:45 - Sush: I was that come send and the pard start to see horse\n",
            "22/12/2020, 15:11 - +91 96201 79084: <Media omitted>\n",
            "22/12/2020, 15:35 - +91 96201 79084: <Media omitted>\n",
            "11/01/2021, 15:23 - Ishaan: what look and a him\n",
            "08/01/2021, 19:02 - +91 96201 79084: <Media omitted>\n",
            "05/01/2021, 03:30 - Sush: where laugher the rast the part\n",
            "21/01/2021, 15:34 - Sachxn: This gent\n",
            "07/01/2021, 14:07 - +91 96201 79084: We will laugh the you can be beating the people want to the prefrow\n",
            "05/01/2021, 03:58 - +91 96201 79084: You want to speam the prope the come as me shit\n",
            "07/01/2021, 14:16 - Sush: <Media omitted>\n",
            "11/01/2021, 15:43 - Ishaan: you see the seems in a grap\n",
            "08/12/2020, 13:31 - +91 96201 79084: <Media omitted>\n",
            "11/01/2021, 15:33 - Sachxn: <Media omitted>\n",
            "16/01/2021, 16:02 - +91 96201 79084: <Media omitted>\n",
            "16/01/2021, 15:39 - Sush: <Media omitted>\n",
            "11/01/2021, 17:01 - +91 96201 79084: It's has the same the sear that where with the sears one\n",
            "22/12/2020, 15:13 - Sush: is the watching don't should one we want to come this with the same the call thing there this he would come on the prof me this\n",
            "07/01/2021, 19:17 - +91 96201 79084: <Media omitted>\n",
            "16/01/2021, 16:11 - Sush: What ah\n",
            "11/01/2021, 15:18 - +91 96201 79084: I am my day what is content make the game to pay and shit are some someone battle this is the sear back the game where with that's this as and that is the people one think it was the dear\n",
            "05/01/2021, 14:09 - +91 96201 79084: <Media omitted>\n",
            "07/01/2021, 11:19 - +91 96201 79084: <Media omitted>\n",
            "22/12/2020, 15:36 - Sachxn: <Media omitted>\n",
            "21/01/2021, 15:40 - Sush: what I say that is the more the game\n",
            "19/12/2020, 18:17 - +91 96201 79084: <Media omitted>\n",
            "21/01/2021, 15:24 - Sush: I am as mart and someream the baa reason and that many p card that\n",
            "05/01/2021, 03:11 - Sush: I said thinking it don't go in the play sticker this that is the send the people can people go part\n",
            "01/01/2021, 16:45 - +91 96201 79084: <Media omitted>\n",
            "08/01/2021, 19:07 - Ishaan: shit\n",
            "08/01/2021, 14:13 - +91 96201 79084: Oh look everyone heas one watch where don't want to come actual play shit\n",
            "10/01/2021, 20:58 - Sush: anyall be an the time\n",
            "07/01/2021, 15:01 - +91 96201 79084: <Media omitted>\n",
            "22/12/2020, 15:01 - +91 96201 79084: <Media omitted>\n",
            "22/12/2020, 15:17 - +91 96201 79084: You take it\n",
            "08/01/2021, 19:02 - Sush: I say the bars the as that man\n",
            "22/12/2020, 15:31 - Ishaan: why is that same that he can for the to some come the game the as this this out like the proplet that is a chat was the manga\n",
            "25/12/2020, 15:23 - +91 96201 79084: He will year good\n",
            "21/01/2021, 15:31 - Sach\n"
          ],
          "name": "stdout"
        }
      ]
    },
    {
      "cell_type": "code",
      "metadata": {
        "id": "9myb8ZLxZMhV"
      },
      "source": [
        ""
      ],
      "execution_count": null,
      "outputs": []
    },
    {
      "cell_type": "code",
      "metadata": {
        "id": "xVeEblaXZPpA"
      },
      "source": [
        ""
      ],
      "execution_count": null,
      "outputs": []
    },
    {
      "cell_type": "code",
      "metadata": {
        "id": "ULlbo42VZR6C"
      },
      "source": [
        ""
      ],
      "execution_count": 13,
      "outputs": []
    },
    {
      "cell_type": "code",
      "metadata": {
        "id": "9r4sLeDDZ4L6"
      },
      "source": [
        ""
      ],
      "execution_count": null,
      "outputs": []
    }
  ]
}