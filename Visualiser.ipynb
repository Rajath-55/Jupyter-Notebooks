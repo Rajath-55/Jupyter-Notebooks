{
 "cells": [
  {
   "cell_type": "code",
   "execution_count": 1,
   "id": "a49c3a41",
   "metadata": {},
   "outputs": [],
   "source": [
    "import pandas as pd\n",
    "import numpy as np\n",
    "import matplotlib.pyplot as plt\n",
    "import matplotlib.animation as anim\n"
   ]
  },
  {
   "cell_type": "code",
   "execution_count": 22,
   "id": "b13139cb",
   "metadata": {},
   "outputs": [],
   "source": [
    "array = np.random.randint(0,10000, 10000,dtype = int)"
   ]
  },
  {
   "cell_type": "code",
   "execution_count": 23,
   "id": "e7449cfe",
   "metadata": {},
   "outputs": [
    {
     "data": {
      "text/plain": [
       "array([4796, 1322, 8023, ..., 8867, 9197, 9906])"
      ]
     },
     "execution_count": 23,
     "metadata": {},
     "output_type": "execute_result"
    }
   ],
   "source": [
    "array"
   ]
  },
  {
   "cell_type": "code",
   "execution_count": 24,
   "id": "0adf9acf",
   "metadata": {},
   "outputs": [],
   "source": [
    "def swap(A,i,j):\n",
    "    A[i],A[j] = A[j],A[i]\n",
    "\n",
    "def bubble_sort(array):\n",
    "    swapped = True\n",
    "    for i in range(len(array) - 1):\n",
    "        if not swapped:\n",
    "            return \n",
    "        swapped = False\n",
    "        \n",
    "        for j in range(len(array) - 1 - i):\n",
    "            if array[j] > array[j+1]:\n",
    "                swap(array,j,j+1)\n",
    "                swapped = True\n",
    "            yield array"
   ]
  },
  {
   "cell_type": "code",
   "execution_count": 25,
   "id": "16b402a1",
   "metadata": {},
   "outputs": [],
   "source": [
    "def visualise():\n",
    "        generator = bubble_sort(array)\n",
    "\n",
    "        fig,ax = plt.subplots()\n",
    "        ax.set_title(\"Bubble Sort O(n\\N{SUPERSCRIPT TWO})\")\n",
    "        bar_g = ax.bar(range(len(array)), array, align = \"edge\")\n",
    "\n",
    "        ax.set_xlim(0, len(array))\n",
    "        text = ax.text(0.02,0.95, \"\", transform = ax.transAxes)\n",
    "        iteration = [0]\n",
    "\n",
    "        def update(array, rects, iteration):\n",
    "            for rect, val in zip(rects, array):\n",
    "                rect.set_height(val)\n",
    "            iteration[0]+=1\n",
    "            text.set_text(f\"No of operations : {iteration[0]}\")\n",
    "\n",
    "        animat = anim.FuncAnimation(fig, func = update, fargs = (bar_g, iteration), frames = generator, repeat = True, blit = False, interval = 15, save_count = 90000)\n",
    "\n",
    "        plt.show()\n",
    "        plt.close()\n"
   ]
  },
  {
   "cell_type": "code",
   "execution_count": 26,
   "id": "b2fd1f16",
   "metadata": {},
   "outputs": [
    {
     "data": {
      "image/png": "[encoded data removed]",
      "text/plain": [
       "<Figure size 432x288 with 1 Axes>"
      ]
     },
     "metadata": {
      "needs_background": "light"
     },
     "output_type": "display_data"
    }
   ],
   "source": [
    "visualise()"
   ]
  },
  {
   "cell_type": "code",
   "execution_count": null,
   "id": "569053eb",
   "metadata": {},
   "outputs": [],
   "source": []
  },
  {
   "cell_type": "code",
   "execution_count": null,
   "id": "58d98bf2",
   "metadata": {},
   "outputs": [],
   "source": []
  }
 ],
 "metadata": {
  "kernelspec": {
   "display_name": "pandas",
   "language": "python",
   "name": "pandas"
  },
  "language_info": {
   "codemirror_mode": {
    "name": "ipython",
    "version": 3
   },
   "file_extension": ".py",
   "mimetype": "text/x-python",
   "name": "python",
   "nbconvert_exporter": "python",
   "pygments_lexer": "ipython3",
   "version": "3.8.6"
  }
 },
 "nbformat": 4,
 "nbformat_minor": 5
}
