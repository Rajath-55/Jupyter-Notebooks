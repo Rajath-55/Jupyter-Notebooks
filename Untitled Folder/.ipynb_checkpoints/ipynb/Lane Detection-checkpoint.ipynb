{
 "cells": [
  {
   "cell_type": "code",
   "execution_count": 10,
   "metadata": {},
   "outputs": [],
   "source": [
    "import cv2 as cv\n",
    "import numpy as np\n",
    "import matplotlib.pyplot as plt"
   ]
  },
  {
   "cell_type": "code",
   "execution_count": 11,
   "metadata": {},
   "outputs": [],
   "source": [
    "def do_canny(image):\n",
    "    gray_scale = cv.cvtColor(image, cv.COLOR_RGB2GRAY)\n",
    "    \n",
    "    blur = cv.GaussianBlur(gray_scale, (5,5),0)\n",
    "    \n",
    "    canny = cv.Canny(blur, 50, 150)\n",
    "    return canny"
   ]
  },
  {
   "cell_type": "code",
   "execution_count": 12,
   "metadata": {},
   "outputs": [],
   "source": [
    "def do_segment(image):\n",
    "    height = image.shape[0]\n",
    "    \n",
    "    polygons = np.array([(0,height), (800,height), (380,290)])\n",
    "    \n",
    "    mask = np.zeros_like(image)\n",
    "    \n",
    "    cv.fillPoly(mask, [polygons], 255)\n",
    "    segmented = cv.bitwise_and(image,mask)\n",
    "    return segmented"
   ]
  },
  {
   "cell_type": "code",
   "execution_count": 13,
   "metadata": {},
   "outputs": [],
   "source": [
    "def calculate_lines(image, lines):\n",
    "    left = []\n",
    "    right = []\n",
    "    \n",
    "    for line in lines:\n",
    "        x1,y1,x2,y2 = line.reshape(4)\n",
    "        parameters = np.polyfit((x1,x2), (y1,y2), 1)\n",
    "        slope = parameters[0]\n",
    "        y_inter = parameters[1]\n",
    "        \n",
    "        if slope< 0:\n",
    "            left.append((slope, y_inter))\n",
    "        else:\n",
    "            right.append((slope, y_inter))\n",
    "    \n",
    "    left_avg = np.average(left, axis=0)  \n",
    "    right_avg = np.average(right, axis=0)\n",
    "    left_line = calculate_coordinates(image, left_avg)\n",
    "    right_line = calculate_coordinates(image, right_avg)\n",
    "    \n",
    "    return np.array([left_line, right_line])"
   ]
  },
  {
   "cell_type": "code",
   "execution_count": 18,
   "metadata": {},
   "outputs": [],
   "source": [
    "def visualise_lines(image, lines):\n",
    "    lines_visualised = np.zeros_like(image)\n",
    "    \n",
    "    if lines is not None:\n",
    "        for x1,y1,x2,y2 in lines:\n",
    "            cv.line(lines_visualised, (x1,y1), (x2,y2), (0,255,0), 5)\n",
    "    return lines_visualised\n",
    "            "
   ]
  },
  {
   "cell_type": "code",
   "execution_count": 19,
   "metadata": {},
   "outputs": [],
   "source": [
    "def calculate_coordinates(frame, parameters):\n",
    "    try:\n",
    "        slope, intercept = parameters\n",
    "    except TypeError:\n",
    "        slope, intercept = 0.001, 0 \n",
    "   \n",
    "    y1 = frame.shape[0]\n",
    "    y2 = int(y1 - 150)\n",
    "    x1 = int((y1 - intercept) / slope)\n",
    "    x2 = int((y2 - intercept) / slope)\n",
    "    return np.array([x1, y1, x2, y2])"
   ]
  },
  {
   "cell_type": "code",
   "execution_count": 20,
   "metadata": {},
   "outputs": [],
   "source": [
    "cap = cv.VideoCapture('./videos/test2.mp4')"
   ]
  },
  {
   "cell_type": "code",
   "execution_count": 21,
   "metadata": {},
   "outputs": [
    {
     "ename": "TypeError",
     "evalue": "'NoneType' object is not iterable",
     "output_type": "error",
     "traceback": [
      "\u001b[1;31m---------------------------------------------------------------------------\u001b[0m",
      "\u001b[1;31mTypeError\u001b[0m                                 Traceback (most recent call last)",
      "\u001b[1;32m<ipython-input-21-0921c646ba0d>\u001b[0m in \u001b[0;36m<module>\u001b[1;34m\u001b[0m\n\u001b[0;32m      7\u001b[0m     \u001b[0msegment\u001b[0m \u001b[1;33m=\u001b[0m \u001b[0mdo_segment\u001b[0m\u001b[1;33m(\u001b[0m\u001b[0mcanny\u001b[0m\u001b[1;33m)\u001b[0m\u001b[1;33m\u001b[0m\u001b[1;33m\u001b[0m\u001b[0m\n\u001b[0;32m      8\u001b[0m     \u001b[0mhough\u001b[0m \u001b[1;33m=\u001b[0m \u001b[0mcv\u001b[0m\u001b[1;33m.\u001b[0m\u001b[0mHoughLinesP\u001b[0m\u001b[1;33m(\u001b[0m\u001b[0msegment\u001b[0m\u001b[1;33m,\u001b[0m \u001b[1;36m2\u001b[0m\u001b[1;33m,\u001b[0m \u001b[0mnp\u001b[0m\u001b[1;33m.\u001b[0m\u001b[0mpi\u001b[0m\u001b[1;33m/\u001b[0m\u001b[1;36m180\u001b[0m\u001b[1;33m,\u001b[0m \u001b[1;36m100\u001b[0m\u001b[1;33m,\u001b[0m \u001b[0mnp\u001b[0m\u001b[1;33m.\u001b[0m\u001b[0marray\u001b[0m\u001b[1;33m(\u001b[0m\u001b[1;33m[\u001b[0m\u001b[1;33m]\u001b[0m\u001b[1;33m)\u001b[0m\u001b[1;33m,\u001b[0m \u001b[0mminLineLength\u001b[0m \u001b[1;33m=\u001b[0m \u001b[1;36m120\u001b[0m\u001b[1;33m,\u001b[0m \u001b[0mmaxLineGap\u001b[0m \u001b[1;33m=\u001b[0m \u001b[1;36m40\u001b[0m\u001b[1;33m)\u001b[0m\u001b[1;33m\u001b[0m\u001b[1;33m\u001b[0m\u001b[0m\n\u001b[1;32m----> 9\u001b[1;33m     \u001b[0mlines\u001b[0m \u001b[1;33m=\u001b[0m \u001b[0mcalculate_lines\u001b[0m\u001b[1;33m(\u001b[0m\u001b[0mframe\u001b[0m\u001b[1;33m,\u001b[0m \u001b[0mhough\u001b[0m\u001b[1;33m)\u001b[0m\u001b[1;33m\u001b[0m\u001b[1;33m\u001b[0m\u001b[0m\n\u001b[0m\u001b[0;32m     10\u001b[0m     \u001b[0mlines_visualised\u001b[0m \u001b[1;33m=\u001b[0m \u001b[0mvisualise_lines\u001b[0m\u001b[1;33m(\u001b[0m\u001b[0mframe\u001b[0m\u001b[1;33m,\u001b[0m \u001b[0mlines\u001b[0m\u001b[1;33m)\u001b[0m\u001b[1;33m\u001b[0m\u001b[1;33m\u001b[0m\u001b[0m\n\u001b[0;32m     11\u001b[0m     \u001b[0mcv\u001b[0m\u001b[1;33m.\u001b[0m\u001b[0mimshow\u001b[0m\u001b[1;33m(\u001b[0m\u001b[1;34m\"hough\"\u001b[0m\u001b[1;33m,\u001b[0m \u001b[0mlines_visualised\u001b[0m\u001b[1;33m)\u001b[0m\u001b[1;33m\u001b[0m\u001b[1;33m\u001b[0m\u001b[0m\n",
      "\u001b[1;32m<ipython-input-13-1fad8d821e6e>\u001b[0m in \u001b[0;36mcalculate_lines\u001b[1;34m(image, lines)\u001b[0m\n\u001b[0;32m      3\u001b[0m     \u001b[0mright\u001b[0m \u001b[1;33m=\u001b[0m \u001b[1;33m[\u001b[0m\u001b[1;33m]\u001b[0m\u001b[1;33m\u001b[0m\u001b[1;33m\u001b[0m\u001b[0m\n\u001b[0;32m      4\u001b[0m \u001b[1;33m\u001b[0m\u001b[0m\n\u001b[1;32m----> 5\u001b[1;33m     \u001b[1;32mfor\u001b[0m \u001b[0mline\u001b[0m \u001b[1;32min\u001b[0m \u001b[0mlines\u001b[0m\u001b[1;33m:\u001b[0m\u001b[1;33m\u001b[0m\u001b[1;33m\u001b[0m\u001b[0m\n\u001b[0m\u001b[0;32m      6\u001b[0m         \u001b[0mx1\u001b[0m\u001b[1;33m,\u001b[0m\u001b[0my1\u001b[0m\u001b[1;33m,\u001b[0m\u001b[0mx2\u001b[0m\u001b[1;33m,\u001b[0m\u001b[0my2\u001b[0m \u001b[1;33m=\u001b[0m \u001b[0mline\u001b[0m\u001b[1;33m.\u001b[0m\u001b[0mreshape\u001b[0m\u001b[1;33m(\u001b[0m\u001b[1;36m4\u001b[0m\u001b[1;33m)\u001b[0m\u001b[1;33m\u001b[0m\u001b[1;33m\u001b[0m\u001b[0m\n\u001b[0;32m      7\u001b[0m         \u001b[0mparameters\u001b[0m \u001b[1;33m=\u001b[0m \u001b[0mnp\u001b[0m\u001b[1;33m.\u001b[0m\u001b[0mpolyfit\u001b[0m\u001b[1;33m(\u001b[0m\u001b[1;33m(\u001b[0m\u001b[0mx1\u001b[0m\u001b[1;33m,\u001b[0m\u001b[0mx2\u001b[0m\u001b[1;33m)\u001b[0m\u001b[1;33m,\u001b[0m \u001b[1;33m(\u001b[0m\u001b[0my1\u001b[0m\u001b[1;33m,\u001b[0m\u001b[0my2\u001b[0m\u001b[1;33m)\u001b[0m\u001b[1;33m,\u001b[0m \u001b[1;36m1\u001b[0m\u001b[1;33m)\u001b[0m\u001b[1;33m\u001b[0m\u001b[1;33m\u001b[0m\u001b[0m\n",
      "\u001b[1;31mTypeError\u001b[0m: 'NoneType' object is not iterable"
     ]
    }
   ],
   "source": [
    "while cap.isOpened():\n",
    "    _,frame = cap.read()\n",
    "    \n",
    "    canny = do_canny(frame)\n",
    "    cv.imshow(\"canny\", canny)\n",
    "    \n",
    "    segment = do_segment(canny)\n",
    "    hough = cv.HoughLinesP(segment, 2, np.pi/180, 100, np.array([]), minLineLength = 120, maxLineGap = 40)\n",
    "    lines = calculate_lines(frame, hough)\n",
    "    lines_visualised = visualise_lines(frame, lines)\n",
    "    cv.imshow(\"hough\", lines_visualised)\n",
    "    output = cv.addWeighted(frame, 0.9, lines_visualised, 1,1)\n",
    "    \n",
    "    cv.imshow(\"output\", output)\n",
    "    \n",
    "    if cv.waitKey(10) & 0xFF == ord('q'):\n",
    "        break\n",
    "\n",
    "cap.release()\n",
    "cv.destroyAllWindows()"
   ]
  },
  {
   "cell_type": "code",
   "execution_count": null,
   "metadata": {},
   "outputs": [],
   "source": []
  }
 ],
 "metadata": {
  "kernelspec": {
   "display_name": "Python 3",
   "language": "python",
   "name": "python3"
  },
  "language_info": {
   "codemirror_mode": {
    "name": "ipython",
    "version": 3
   },
   "file_extension": ".py",
   "mimetype": "text/x-python",
   "name": "python",
   "nbconvert_exporter": "python",
   "pygments_lexer": "ipython3",
   "version": "3.8.1"
  }
 },
 "nbformat": 4,
 "nbformat_minor": 4
}
